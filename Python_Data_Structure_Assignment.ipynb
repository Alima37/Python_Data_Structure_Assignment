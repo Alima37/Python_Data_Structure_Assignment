{
  "nbformat": 4,
  "nbformat_minor": 0,
  "metadata": {
    "colab": {
      "provenance": []
    },
    "kernelspec": {
      "name": "python3",
      "display_name": "Python 3"
    },
    "language_info": {
      "name": "python"
    }
  },
  "cells": [
    {
      "cell_type": "markdown",
      "source": [
        "#Theory Questions"
      ],
      "metadata": {
        "id": "UVMnk3fK0cyt"
      }
    },
    {
      "cell_type": "markdown",
      "source": [
        "1. What are data structures, and why are they important?\n",
        "     - Data structures are organized ways to store, manage, and retrieve data efficiently. Think of them like shelves in a library—they help us to find what we need quickly. They're crucial for writing clean, optimized programs."
      ],
      "metadata": {
        "id": "FOmNvAny7P7g"
      }
    },
    {
      "cell_type": "markdown",
      "source": [
        "2. Mutable vs Immutable data types\n",
        "\n",
        "   - Mutable: Can be changed after creation. Example: list, dict.\n",
        "\n",
        "     my_list = [1, 2, 3]\n",
        "     my_list.append(4)  # list is changed\n",
        "  \n",
        "     Immutable: Cannot be changed after creation. Example: str, tuple.\n",
        "  \n",
        "     name = \"Alex\"\n",
        "     name[0] = \"M\"  # Error"
      ],
      "metadata": {
        "id": "9aWiziuv7hF1"
      }
    },
    {
      "cell_type": "markdown",
      "source": [
        "3. List vs Tuple in Python\n",
        "\n",
        "     - Lists: Changeable, slower, written with [].\n",
        "\n",
        "       Tuples: Unchangeable, faster, written with ().\n",
        "       \n",
        "       Use tuples when data shouldn't be modified."
      ],
      "metadata": {
        "id": "OtmP2gU679cR"
      }
    },
    {
      "cell_type": "markdown",
      "source": [
        "4. How dictionaries store data\n",
        "     - Dictionaries use a key-value format. Behind the scenes, they use a hash table to match keys with values quickly."
      ],
      "metadata": {
        "id": "OvBHgjMV9JMk"
      }
    },
    {
      "cell_type": "markdown",
      "source": [
        "5. Why use a set instead of a list?\n",
        "     - Sets automatically remove duplicates and are faster for checking if an item exists. Perfect for unique items."
      ],
      "metadata": {
        "id": "IYvn6GcQ9rRd"
      }
    },
    {
      "cell_type": "markdown",
      "source": [
        "6. What is a string and how is it different from a list?\n",
        "     - A string is a series of characters, while a list can hold any data types. Also, strings are immutable, but lists are not."
      ],
      "metadata": {
        "id": "BRefzlEJ9zov"
      }
    },
    {
      "cell_type": "markdown",
      "source": [
        "7. How do tuples ensure data integrity?\n",
        "     - Since tuples can't be altered, they're reliable for storing constant data like coordinates or configuration settings."
      ],
      "metadata": {
        "id": "77tQMPEi98cE"
      }
    },
    {
      "cell_type": "markdown",
      "source": [
        "8. What is a hash table (used in dictionaries)?\n",
        "     - A hash table is a system that maps keys to values using a unique hash. It allows fast lookups, just like dictionaries in Python."
      ],
      "metadata": {
        "id": "XkWfnit0-Ek6"
      }
    },
    {
      "cell_type": "markdown",
      "source": [
        "9. Can lists hold multiple data types?\n",
        "     - Yes! A single list can contain strings, numbers, or even other lists."
      ],
      "metadata": {
        "id": "dlEcWjMS-Pql"
      }
    },
    {
      "cell_type": "markdown",
      "source": [
        "10. Why are strings immutable?\n",
        "     - It’s designed that way for performance and security. When strings don't change, Python can reuse them efficiently."
      ],
      "metadata": {
        "id": "naArIKn1-bMF"
      }
    },
    {
      "cell_type": "markdown",
      "source": [
        "11. When are dictionaries better than lists?\n",
        "     - When data needs labels (like name, age, etc.), dictionaries are better. They're quicker for lookups with keys."
      ],
      "metadata": {
        "id": "7hAa3faP-oEU"
      }
    },
    {
      "cell_type": "markdown",
      "source": [
        "12. When to prefer a tuple over a list?\n",
        "     - Use tuples when data shouldn't change—like storing fixed items such as RGB color codes or dates."
      ],
      "metadata": {
        "id": "EpmcoSnu-xHk"
      }
    },
    {
      "cell_type": "markdown",
      "source": [
        "13. How do sets handle duplicates?\n",
        "     - Sets automatically remove duplicates. If you try to add the same item twice, it keeps only one copy."
      ],
      "metadata": {
        "id": "QBgvhtoz-6AS"
      }
    },
    {
      "cell_type": "markdown",
      "source": [
        "14. How does in behave differently in lists vs dictionaries?\n",
        "\n",
        "     - List: checks if the value exists.\n",
        "\n",
        "      Dict: checks if the key exists."
      ],
      "metadata": {
        "id": "dX9nctIw_DZk"
      }
    },
    {
      "cell_type": "markdown",
      "source": [
        "15. Can you modify tuple elements? Why not?\n",
        "     - No—you can't. Tuples are immutable, which means once created, their values are locked."
      ],
      "metadata": {
        "id": "RtHhHjg5_Oxb"
      }
    },
    {
      "cell_type": "markdown",
      "source": [
        "16. What is a nested dictionary? Example use case?\n",
        "     - A dictionary inside another dictionary. Useful for storing complex data like:\n",
        "\n",
        "      student = {\n",
        "        \"name\": \"Emma\",\n",
        "          \"grades\": {\"math\": 90, \"science\": 85}\n",
        "       }"
      ],
      "metadata": {
        "id": "sEAH2vMt_X29"
      }
    },
    {
      "cell_type": "markdown",
      "source": [
        "17. Time complexity for accessing dictionary elements?\n",
        "     - Usually constant time: O(1) thanks to hash tables."
      ],
      "metadata": {
        "id": "NNn8AplR_o4l"
      }
    },
    {
      "cell_type": "markdown",
      "source": [
        "18. When are lists better than dictionaries?\n",
        "     - When you just need to store items in order, without needing to name them (like a shopping list)."
      ],
      "metadata": {
        "id": "sqoC1Sfw_0J-"
      }
    },
    {
      "cell_type": "markdown",
      "source": [
        "19. Why are dictionaries unordered (before Python 3.7)?\n",
        "     - They didn’t store elements by position, only by hash of keys. Now in modern Python (3.7+), insertion order is preserved."
      ],
      "metadata": {
        "id": "lbH0byL0_8jc"
      }
    },
    {
      "cell_type": "markdown",
      "source": [
        "20. List vs Dictionary – Retrieval difference\n",
        "\n",
        "     - List: uses index (list[0])\n",
        "\n",
        "       Dict: uses key (dict[\"name\"])"
      ],
      "metadata": {
        "id": "_bH7i7tIADOU"
      }
    },
    {
      "cell_type": "markdown",
      "source": [
        "#Practical Questions"
      ],
      "metadata": {
        "id": "9WjS99gyATkY"
      }
    },
    {
      "cell_type": "markdown",
      "source": [
        " 1. Print a string with your name"
      ],
      "metadata": {
        "id": "8Q0abi8IAfX7"
      }
    },
    {
      "cell_type": "code",
      "source": [
        "print(\"Alima Fatma\")"
      ],
      "metadata": {
        "colab": {
          "base_uri": "https://localhost:8080/"
        },
        "id": "2sFtmkNjAo_w",
        "outputId": "bc322e16-1cbd-4d02-a5c4-b495981e9732"
      },
      "execution_count": 1,
      "outputs": [
        {
          "output_type": "stream",
          "name": "stdout",
          "text": [
            "Alima Fatma\n"
          ]
        }
      ]
    },
    {
      "cell_type": "markdown",
      "source": [
        "2. Length of \"Hello World\""
      ],
      "metadata": {
        "id": "yLWg6yEUAvw1"
      }
    },
    {
      "cell_type": "code",
      "source": [
        "print(len(\"Hello World\"))"
      ],
      "metadata": {
        "colab": {
          "base_uri": "https://localhost:8080/"
        },
        "id": "YhZl7oh3A0xa",
        "outputId": "a96a3ef1-5dfd-43c7-e230-004fdfcc1e8a"
      },
      "execution_count": null,
      "outputs": [
        {
          "output_type": "stream",
          "name": "stdout",
          "text": [
            "11\n"
          ]
        }
      ]
    },
    {
      "cell_type": "markdown",
      "source": [
        "3. Slice first 3 characters"
      ],
      "metadata": {
        "id": "fMZlyRINA778"
      }
    },
    {
      "cell_type": "code",
      "source": [
        "print(\"Python Programming\"[:3])"
      ],
      "metadata": {
        "colab": {
          "base_uri": "https://localhost:8080/"
        },
        "id": "O1YOJNm5BCrB",
        "outputId": "3d0027a9-71eb-4e94-cb63-1f622f46f176"
      },
      "execution_count": null,
      "outputs": [
        {
          "output_type": "stream",
          "name": "stdout",
          "text": [
            "Pyt\n"
          ]
        }
      ]
    },
    {
      "cell_type": "markdown",
      "source": [
        "4.  Convert to uppercase"
      ],
      "metadata": {
        "id": "NHLl1tveBIsL"
      }
    },
    {
      "cell_type": "code",
      "source": [
        "print(\"hello\".upper())"
      ],
      "metadata": {
        "colab": {
          "base_uri": "https://localhost:8080/"
        },
        "id": "aucRsUR5BTpQ",
        "outputId": "d68ea711-79bb-434b-dd3b-26e9512389d9"
      },
      "execution_count": null,
      "outputs": [
        {
          "output_type": "stream",
          "name": "stdout",
          "text": [
            "HELLO\n"
          ]
        }
      ]
    },
    {
      "cell_type": "markdown",
      "source": [
        "5. Replace word"
      ],
      "metadata": {
        "id": "HN0_AsdQBZVj"
      }
    },
    {
      "cell_type": "code",
      "source": [
        "print(\"I like apple\".replace(\"apple\", \"orange\"))"
      ],
      "metadata": {
        "colab": {
          "base_uri": "https://localhost:8080/"
        },
        "id": "Fu__epaiBf7w",
        "outputId": "d0b76e67-fb9e-4ad1-d8be-1fb7b428136e"
      },
      "execution_count": null,
      "outputs": [
        {
          "output_type": "stream",
          "name": "stdout",
          "text": [
            "I like orange\n"
          ]
        }
      ]
    },
    {
      "cell_type": "markdown",
      "source": [
        "6. Create list [1-5]"
      ],
      "metadata": {
        "id": "4AP8NnhdBnfE"
      }
    },
    {
      "cell_type": "code",
      "source": [
        "print([1, 2, 3, 4, 5])"
      ],
      "metadata": {
        "colab": {
          "base_uri": "https://localhost:8080/"
        },
        "id": "vQVem_R5Bta-",
        "outputId": "8f5997bc-c08e-4b32-8921-ee27018d26d6"
      },
      "execution_count": null,
      "outputs": [
        {
          "output_type": "stream",
          "name": "stdout",
          "text": [
            "[1, 2, 3, 4, 5]\n"
          ]
        }
      ]
    },
    {
      "cell_type": "markdown",
      "source": [
        "7. Append to list"
      ],
      "metadata": {
        "id": "WiLPO5omB0dA"
      }
    },
    {
      "cell_type": "code",
      "source": [
        "lst = [1, 2, 3, 4]\n",
        "lst.append(10)\n",
        "print(lst)"
      ],
      "metadata": {
        "colab": {
          "base_uri": "https://localhost:8080/"
        },
        "id": "fmDXmIsgB9r7",
        "outputId": "3ab15629-525f-414d-bced-92dc7ead5bde"
      },
      "execution_count": null,
      "outputs": [
        {
          "output_type": "stream",
          "name": "stdout",
          "text": [
            "[1, 2, 3, 4, 10]\n"
          ]
        }
      ]
    },
    {
      "cell_type": "markdown",
      "source": [
        "8. Remove 3"
      ],
      "metadata": {
        "id": "i_Q9bZM5CEdh"
      }
    },
    {
      "cell_type": "code",
      "source": [
        "lst = [1, 2, 3, 4, 5]\n",
        "lst.remove(3)\n",
        "print(lst)"
      ],
      "metadata": {
        "colab": {
          "base_uri": "https://localhost:8080/"
        },
        "id": "XMqxEFp_CLlA",
        "outputId": "3013a9f1-aabd-4a94-eb2d-76d11d5655d3"
      },
      "execution_count": null,
      "outputs": [
        {
          "output_type": "stream",
          "name": "stdout",
          "text": [
            "[1, 2, 4, 5]\n"
          ]
        }
      ]
    },
    {
      "cell_type": "markdown",
      "source": [
        "9.  Access second element"
      ],
      "metadata": {
        "id": "S2HLaYzNCTon"
      }
    },
    {
      "cell_type": "code",
      "source": [
        "print(['a', 'b', 'c', 'd'][1])"
      ],
      "metadata": {
        "colab": {
          "base_uri": "https://localhost:8080/"
        },
        "id": "VBD2HHtbCad4",
        "outputId": "80536d1c-7893-4ade-81cc-906b2c7cd97f"
      },
      "execution_count": null,
      "outputs": [
        {
          "output_type": "stream",
          "name": "stdout",
          "text": [
            "b\n"
          ]
        }
      ]
    },
    {
      "cell_type": "markdown",
      "source": [
        "10. Reverse list"
      ],
      "metadata": {
        "id": "rVE144-pCf3H"
      }
    },
    {
      "cell_type": "code",
      "source": [
        "print([10, 20, 30, 40, 50][::-1])"
      ],
      "metadata": {
        "colab": {
          "base_uri": "https://localhost:8080/"
        },
        "id": "1YfkfIaGClAH",
        "outputId": "829b1fbd-556b-49e6-c824-ac466fab2b1b"
      },
      "execution_count": null,
      "outputs": [
        {
          "output_type": "stream",
          "name": "stdout",
          "text": [
            "[50, 40, 30, 20, 10]\n"
          ]
        }
      ]
    },
    {
      "cell_type": "markdown",
      "source": [
        "11. Create a tuple and print"
      ],
      "metadata": {
        "id": "GIaJEuVxCs2u"
      }
    },
    {
      "cell_type": "code",
      "source": [
        "print((100, 200, 300))"
      ],
      "metadata": {
        "colab": {
          "base_uri": "https://localhost:8080/"
        },
        "id": "m8ZW4kXsCy7S",
        "outputId": "a8e23705-26bb-42ff-ac29-ce7882da5719"
      },
      "execution_count": null,
      "outputs": [
        {
          "output_type": "stream",
          "name": "stdout",
          "text": [
            "(100, 200, 300)\n"
          ]
        }
      ]
    },
    {
      "cell_type": "markdown",
      "source": [
        "12. Second-to-last element"
      ],
      "metadata": {
        "id": "cKOwjIvHC6oQ"
      }
    },
    {
      "cell_type": "code",
      "source": [
        "print(('red', 'green', 'blue', 'yellow')[-2])"
      ],
      "metadata": {
        "colab": {
          "base_uri": "https://localhost:8080/"
        },
        "id": "7HJBGxLfC_hC",
        "outputId": "374d0d3a-f145-4633-f58b-e95d19279157"
      },
      "execution_count": null,
      "outputs": [
        {
          "output_type": "stream",
          "name": "stdout",
          "text": [
            "blue\n"
          ]
        }
      ]
    },
    {
      "cell_type": "markdown",
      "source": [
        "13.  Min in tuple"
      ],
      "metadata": {
        "id": "m97srYrsDFwy"
      }
    },
    {
      "cell_type": "code",
      "source": [
        "print(min((10, 20, 5, 15)))"
      ],
      "metadata": {
        "colab": {
          "base_uri": "https://localhost:8080/"
        },
        "id": "ESY3hXDfDMok",
        "outputId": "e0a9aea4-7cea-46a9-997c-f2feb9d90468"
      },
      "execution_count": null,
      "outputs": [
        {
          "output_type": "stream",
          "name": "stdout",
          "text": [
            "5\n"
          ]
        }
      ]
    },
    {
      "cell_type": "markdown",
      "source": [
        "14. Index of \"cat\""
      ],
      "metadata": {
        "id": "6iyb7KARDSyF"
      }
    },
    {
      "cell_type": "code",
      "source": [
        "print(('dog', 'cat', 'rabbit').index(\"cat\"))"
      ],
      "metadata": {
        "colab": {
          "base_uri": "https://localhost:8080/"
        },
        "id": "isr59ISYDdVZ",
        "outputId": "59819343-b312-4d10-fda7-a04c618559af"
      },
      "execution_count": null,
      "outputs": [
        {
          "output_type": "stream",
          "name": "stdout",
          "text": [
            "1\n"
          ]
        }
      ]
    },
    {
      "cell_type": "markdown",
      "source": [
        "15. Check for \"kiwi\""
      ],
      "metadata": {
        "id": "XX8dCZFVDkvq"
      }
    },
    {
      "cell_type": "code",
      "source": [
        "fruits = (\"apple\", \"banana\", \"orange\")\n",
        "print(\"kiwi\" in fruits)"
      ],
      "metadata": {
        "colab": {
          "base_uri": "https://localhost:8080/"
        },
        "id": "dhxPzhBPDp_V",
        "outputId": "36d0a6fe-01b7-4171-8a40-a27f42ae2cc7"
      },
      "execution_count": null,
      "outputs": [
        {
          "output_type": "stream",
          "name": "stdout",
          "text": [
            "False\n"
          ]
        }
      ]
    },
    {
      "cell_type": "markdown",
      "source": [
        "16. Create a set"
      ],
      "metadata": {
        "id": "6fYTvV6fDvab"
      }
    },
    {
      "cell_type": "code",
      "source": [
        "print(set(['a', 'b', 'c']))"
      ],
      "metadata": {
        "colab": {
          "base_uri": "https://localhost:8080/"
        },
        "id": "NU0MkAGAD0vF",
        "outputId": "b68b3567-f8f0-4f42-ffd2-1e487911ab0e"
      },
      "execution_count": null,
      "outputs": [
        {
          "output_type": "stream",
          "name": "stdout",
          "text": [
            "{'c', 'b', 'a'}\n"
          ]
        }
      ]
    },
    {
      "cell_type": "markdown",
      "source": [
        "17.  Clear a set"
      ],
      "metadata": {
        "id": "N6SM2xbPD6ll"
      }
    },
    {
      "cell_type": "code",
      "source": [
        "s = {1, 2, 3, 4, 5}\n",
        "s.clear()\n",
        "print(s)"
      ],
      "metadata": {
        "colab": {
          "base_uri": "https://localhost:8080/"
        },
        "id": "PmKtAnBOEAVj",
        "outputId": "c0a38a57-9f5b-4d0f-cc09-5f5445b3a64b"
      },
      "execution_count": null,
      "outputs": [
        {
          "output_type": "stream",
          "name": "stdout",
          "text": [
            "set()\n"
          ]
        }
      ]
    },
    {
      "cell_type": "markdown",
      "source": [
        "18. Remove 4"
      ],
      "metadata": {
        "id": "QikBpP2-EGW-"
      }
    },
    {
      "cell_type": "code",
      "source": [
        "s = {1, 2, 3, 4}\n",
        "s.remove(4)\n",
        "print(s)"
      ],
      "metadata": {
        "colab": {
          "base_uri": "https://localhost:8080/"
        },
        "id": "vHEYW_VUENPG",
        "outputId": "83f5e80f-10eb-4c4d-e3c6-2145c10fc136"
      },
      "execution_count": null,
      "outputs": [
        {
          "output_type": "stream",
          "name": "stdout",
          "text": [
            "{1, 2, 3}\n"
          ]
        }
      ]
    },
    {
      "cell_type": "markdown",
      "source": [
        "19. Union of sets"
      ],
      "metadata": {
        "id": "4kpMY7g2ESXM"
      }
    },
    {
      "cell_type": "code",
      "source": [
        "print({1, 2, 3} | {3, 4, 5})"
      ],
      "metadata": {
        "colab": {
          "base_uri": "https://localhost:8080/"
        },
        "id": "_bhFGm6nEYCw",
        "outputId": "a0054fe8-1092-4118-c318-da70c995f0c5"
      },
      "execution_count": null,
      "outputs": [
        {
          "output_type": "stream",
          "name": "stdout",
          "text": [
            "{1, 2, 3, 4, 5}\n"
          ]
        }
      ]
    },
    {
      "cell_type": "markdown",
      "source": [
        "20. Intersection of sets"
      ],
      "metadata": {
        "id": "U7ZYK1KLEd85"
      }
    },
    {
      "cell_type": "code",
      "source": [
        "print({1, 2, 3} & {2, 3, 4})"
      ],
      "metadata": {
        "colab": {
          "base_uri": "https://localhost:8080/"
        },
        "id": "B4_sfMtQEibn",
        "outputId": "8b651c03-2709-4adc-ce57-8ff998574b67"
      },
      "execution_count": null,
      "outputs": [
        {
          "output_type": "stream",
          "name": "stdout",
          "text": [
            "{2, 3}\n"
          ]
        }
      ]
    },
    {
      "cell_type": "markdown",
      "source": [
        "21. Create and print a dictionary"
      ],
      "metadata": {
        "id": "KgWnAY0XEoVO"
      }
    },
    {
      "cell_type": "code",
      "source": [
        "print({\"name\": \"John\", \"age\": 30, \"city\": \"London\"})"
      ],
      "metadata": {
        "colab": {
          "base_uri": "https://localhost:8080/"
        },
        "id": "wI3MdrniEvDc",
        "outputId": "6623a251-fcce-46a2-87fb-02cf2734af0e"
      },
      "execution_count": null,
      "outputs": [
        {
          "output_type": "stream",
          "name": "stdout",
          "text": [
            "{'name': 'John', 'age': 30, 'city': 'London'}\n"
          ]
        }
      ]
    },
    {
      "cell_type": "markdown",
      "source": [
        "22. Add key-value pair"
      ],
      "metadata": {
        "id": "bJOHiRdUE0be"
      }
    },
    {
      "cell_type": "code",
      "source": [
        "d = {'name': 'John', 'age': 25}\n",
        "d['country'] = 'USA'\n",
        "print(d)"
      ],
      "metadata": {
        "colab": {
          "base_uri": "https://localhost:8080/"
        },
        "id": "-yCbWTOZE4m8",
        "outputId": "ab1d82d8-2e01-4cf1-f55e-c2b5677a6a0e"
      },
      "execution_count": null,
      "outputs": [
        {
          "output_type": "stream",
          "name": "stdout",
          "text": [
            "{'name': 'John', 'age': 25, 'country': 'USA'}\n"
          ]
        }
      ]
    },
    {
      "cell_type": "markdown",
      "source": [
        "23.  Access value by key"
      ],
      "metadata": {
        "id": "qAviasqVE89k"
      }
    },
    {
      "cell_type": "code",
      "source": [
        "print({'name': 'Saif', 'age': 30}['name'])"
      ],
      "metadata": {
        "colab": {
          "base_uri": "https://localhost:8080/"
        },
        "id": "LTYAqcwWFDVI",
        "outputId": "da164480-e016-4029-962c-390b51e843dc"
      },
      "execution_count": 2,
      "outputs": [
        {
          "output_type": "stream",
          "name": "stdout",
          "text": [
            "Saif\n"
          ]
        }
      ]
    },
    {
      "cell_type": "markdown",
      "source": [
        "24. Remove key"
      ],
      "metadata": {
        "id": "4jNWrb4LFJO9"
      }
    },
    {
      "cell_type": "code",
      "source": [
        "d = {'name': 'Alima', 'age': 22, 'city': 'India'}\n",
        "del d['age']\n",
        "print(d)"
      ],
      "metadata": {
        "colab": {
          "base_uri": "https://localhost:8080/"
        },
        "id": "27eqyZGvFOBj",
        "outputId": "b62fed45-4686-4a8c-ba18-d87e358890bf"
      },
      "execution_count": 3,
      "outputs": [
        {
          "output_type": "stream",
          "name": "stdout",
          "text": [
            "{'name': 'Alima', 'city': 'India'}\n"
          ]
        }
      ]
    },
    {
      "cell_type": "markdown",
      "source": [
        "25. Check if key exists"
      ],
      "metadata": {
        "id": "eplpVgInFTRp"
      }
    },
    {
      "cell_type": "code",
      "source": [
        "print(\"city\" in {'name': 'Alima', 'city': 'India'})"
      ],
      "metadata": {
        "colab": {
          "base_uri": "https://localhost:8080/"
        },
        "id": "KyF4WhD2FYcv",
        "outputId": "5bd72f28-4230-4a32-c12a-97c027048bda"
      },
      "execution_count": 4,
      "outputs": [
        {
          "output_type": "stream",
          "name": "stdout",
          "text": [
            "True\n"
          ]
        }
      ]
    },
    {
      "cell_type": "markdown",
      "source": [
        "26.  Create list, tuple, dictionary"
      ],
      "metadata": {
        "id": "LUQSNim5FdV6"
      }
    },
    {
      "cell_type": "code",
      "source": [
        "print([1, 2, 3], (4, 5, 6), {\"a\": 1})\n"
      ],
      "metadata": {
        "colab": {
          "base_uri": "https://localhost:8080/"
        },
        "id": "tXyH3LU-Fhir",
        "outputId": "20cd64d4-3d61-4c5e-da67-3f997c830496"
      },
      "execution_count": null,
      "outputs": [
        {
          "output_type": "stream",
          "name": "stdout",
          "text": [
            "[1, 2, 3] (4, 5, 6) {'a': 1}\n"
          ]
        }
      ]
    },
    {
      "cell_type": "markdown",
      "source": [
        "27. Random list sorted"
      ],
      "metadata": {
        "id": "Y9HpGh35Flci"
      }
    },
    {
      "cell_type": "code",
      "source": [
        "import random\n",
        "numbers = random.sample(range(1, 101), 5)\n",
        "numbers.sort()\n",
        "print(numbers)"
      ],
      "metadata": {
        "colab": {
          "base_uri": "https://localhost:8080/"
        },
        "id": "UXQR2KKTFqZt",
        "outputId": "a20e7add-48e5-4fb5-d9ab-b656dcc140e9"
      },
      "execution_count": null,
      "outputs": [
        {
          "output_type": "stream",
          "name": "stdout",
          "text": [
            "[6, 14, 36, 60, 90]\n"
          ]
        }
      ]
    },
    {
      "cell_type": "markdown",
      "source": [
        "28. String list, 3rd index"
      ],
      "metadata": {
        "id": "NZQHQf9tFxya"
      }
    },
    {
      "cell_type": "code",
      "source": [
        "print([\"apple\", \"banana\", \"cherry\", \"date\"][3])"
      ],
      "metadata": {
        "colab": {
          "base_uri": "https://localhost:8080/"
        },
        "id": "5DhNvHLGF3x8",
        "outputId": "634f37b5-8836-4b35-f7ec-eddec7dc02de"
      },
      "execution_count": null,
      "outputs": [
        {
          "output_type": "stream",
          "name": "stdout",
          "text": [
            "date\n"
          ]
        }
      ]
    },
    {
      "cell_type": "markdown",
      "source": [
        "29.  Combine two dictionaries"
      ],
      "metadata": {
        "id": "p9h_PPlTF8UE"
      }
    },
    {
      "cell_type": "code",
      "source": [
        "d1 = {\"a\": 1, \"b\": 2}\n",
        "d2 = {\"c\": 3}\n",
        "d1.update(d2)\n",
        "print(d1)"
      ],
      "metadata": {
        "colab": {
          "base_uri": "https://localhost:8080/"
        },
        "id": "ic4dzw9-GAx-",
        "outputId": "7ddd54a5-50cc-47a1-8cfe-b932f42ad238"
      },
      "execution_count": null,
      "outputs": [
        {
          "output_type": "stream",
          "name": "stdout",
          "text": [
            "{'a': 1, 'b': 2, 'c': 3}\n"
          ]
        }
      ]
    },
    {
      "cell_type": "markdown",
      "source": [
        "30.  Convert list to set"
      ],
      "metadata": {
        "id": "QzVrrEDYGFS1"
      }
    },
    {
      "cell_type": "code",
      "source": [
        "print(set([\"apple\", \"banana\", \"apple\"]))"
      ],
      "metadata": {
        "id": "rPUckSk6GKF4",
        "outputId": "d4ff1042-ff37-4b4e-e726-eb5a2cc74f9e",
        "colab": {
          "base_uri": "https://localhost:8080/"
        }
      },
      "execution_count": null,
      "outputs": [
        {
          "output_type": "stream",
          "name": "stdout",
          "text": [
            "{'apple', 'banana'}\n"
          ]
        }
      ]
    }
  ]
}